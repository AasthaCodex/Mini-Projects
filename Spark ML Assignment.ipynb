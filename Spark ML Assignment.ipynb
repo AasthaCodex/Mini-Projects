{
 "cells": [
  {
   "cell_type": "markdown",
   "id": "d4043f8f",
   "metadata": {},
   "source": [
    "# Spark ML Assignment\n",
    "\n",
    "## Problem statement:\n",
    "A retail company “ABC Private Limited” wants to understand the customer purchase behavior (specifically, purchase amount) against various products of different categories. They have shared purchase summaries of various customers for selected high-volume products from last month. The data set also contains customer demographics (age, gender, marital status, city_type, stay_in_current_city), product details (product_id and product category) and Total purchase_amount from last month. Now, they want to build a model to predict the purchase amount of customers against various products, which will help them create personalized offers for customers against different products.\n",
    "\n",
    "\n"
   ]
  },
  {
   "cell_type": "markdown",
   "id": "c0db4f77",
   "metadata": {},
   "source": [
    "## Installing the package\n",
    "Installing the pyspark package using the !pip install pyspark command."
   ]
  },
  {
   "cell_type": "code",
   "execution_count": 1,
   "id": "2c42b6e4",
   "metadata": {},
   "outputs": [],
   "source": [
    "#!pip install pyspark"
   ]
  },
  {
   "cell_type": "markdown",
   "id": "7efb88d6",
   "metadata": {},
   "source": [
    "## Load the Data\n",
    "\n",
    "The spark.read.csv() method is used to load the data into a Spark DataFrame. "
   ]
  },
  {
   "cell_type": "code",
   "execution_count": 2,
   "id": "9d8cccee",
   "metadata": {},
   "outputs": [],
   "source": [
    "from pyspark.sql import SparkSession"
   ]
  },
  {
   "cell_type": "code",
   "execution_count": 3,
   "id": "0bc5af7e",
   "metadata": {},
   "outputs": [],
   "source": [
    "spark = SparkSession.builder.getOrCreate()"
   ]
  },
  {
   "cell_type": "markdown",
   "id": "f7c981d7",
   "metadata": {},
   "source": [
    "Load the data from CSV file"
   ]
  },
  {
   "cell_type": "code",
   "execution_count": 4,
   "id": "970bfc63",
   "metadata": {},
   "outputs": [],
   "source": [
    "train_data = spark.read.csv('train.csv', header=True, inferSchema=True)"
   ]
  },
  {
   "cell_type": "code",
   "execution_count": 5,
   "id": "7b4950ae",
   "metadata": {},
   "outputs": [],
   "source": [
    "test_data = spark.read.csv('test.csv', header=True, inferSchema=True)"
   ]
  },
  {
   "cell_type": "code",
   "execution_count": 6,
   "id": "15288773",
   "metadata": {},
   "outputs": [
    {
     "name": "stdout",
     "output_type": "stream",
     "text": [
      "root\n",
      " |-- User_ID: integer (nullable = true)\n",
      " |-- Product_ID: string (nullable = true)\n",
      " |-- Gender: string (nullable = true)\n",
      " |-- Age: string (nullable = true)\n",
      " |-- Occupation: integer (nullable = true)\n",
      " |-- City_Category: string (nullable = true)\n",
      " |-- Stay_In_Current_City_Years: string (nullable = true)\n",
      " |-- Marital_Status: integer (nullable = true)\n",
      " |-- Product_Category_1: integer (nullable = true)\n",
      " |-- Product_Category_2: integer (nullable = true)\n",
      " |-- Product_Category_3: integer (nullable = true)\n",
      " |-- Purchase: integer (nullable = true)\n",
      "\n"
     ]
    }
   ],
   "source": [
    "train_data.printSchema()"
   ]
  },
  {
   "cell_type": "code",
   "execution_count": 7,
   "id": "5aa24585",
   "metadata": {},
   "outputs": [
    {
     "name": "stdout",
     "output_type": "stream",
     "text": [
      "root\n",
      " |-- User_ID: integer (nullable = true)\n",
      " |-- Product_ID: string (nullable = true)\n",
      " |-- Gender: string (nullable = true)\n",
      " |-- Age: string (nullable = true)\n",
      " |-- Occupation: integer (nullable = true)\n",
      " |-- City_Category: string (nullable = true)\n",
      " |-- Stay_In_Current_City_Years: string (nullable = true)\n",
      " |-- Marital_Status: integer (nullable = true)\n",
      " |-- Product_Category_1: integer (nullable = true)\n",
      " |-- Product_Category_2: integer (nullable = true)\n",
      " |-- Product_Category_3: integer (nullable = true)\n",
      "\n"
     ]
    }
   ],
   "source": [
    "test_data.printSchema()"
   ]
  },
  {
   "cell_type": "markdown",
   "id": "62b608f1",
   "metadata": {},
   "source": [
    "## Question 1: Find the Average Purchase amount.\n",
    "\n",
    "The agg() function is used to calculate the average purchase amount. "
   ]
  },
  {
   "cell_type": "code",
   "execution_count": 8,
   "id": "024a59ba",
   "metadata": {},
   "outputs": [],
   "source": [
    "from pyspark.sql.functions import avg"
   ]
  },
  {
   "cell_type": "markdown",
   "id": "7fb5583c",
   "metadata": {},
   "source": [
    "Calculate the average purchase amount"
   ]
  },
  {
   "cell_type": "code",
   "execution_count": 9,
   "id": "9855806b",
   "metadata": {},
   "outputs": [],
   "source": [
    "average_purchase = train_data.agg(avg(\"purchase\")).first()[0]"
   ]
  },
  {
   "cell_type": "markdown",
   "id": "7cd39c43",
   "metadata": {},
   "source": [
    "Print the average purchase amount"
   ]
  },
  {
   "cell_type": "code",
   "execution_count": 10,
   "id": "799cbac2",
   "metadata": {},
   "outputs": [
    {
     "name": "stdout",
     "output_type": "stream",
     "text": [
      "Average Purchase Amount = 9263.968712959126\n"
     ]
    }
   ],
   "source": [
    "print(\"Average Purchase Amount =\", average_purchase)"
   ]
  },
  {
   "cell_type": "markdown",
   "id": "134f4ee0",
   "metadata": {},
   "source": [
    "## Question 2: Find out the count of null values in all the columns and handle all the missing values.\n",
    "\n",
    "Calculating the count of null values in each column of the train_data dataset."
   ]
  },
  {
   "cell_type": "code",
   "execution_count": 11,
   "id": "99c6a47e",
   "metadata": {},
   "outputs": [],
   "source": [
    "from pyspark.sql.functions import col, isnan"
   ]
  },
  {
   "cell_type": "markdown",
   "id": "98b694e2",
   "metadata": {},
   "source": [
    "### Train Dataset"
   ]
  },
  {
   "cell_type": "markdown",
   "id": "a8a09894",
   "metadata": {},
   "source": [
    "Iterate over the columns of the Train DataFrame"
   ]
  },
  {
   "cell_type": "code",
   "execution_count": 12,
   "id": "59583373",
   "metadata": {},
   "outputs": [
    {
     "name": "stdout",
     "output_type": "stream",
     "text": [
      "User_ID = 0\n",
      "Product_ID = 0\n",
      "Gender = 0\n",
      "Age = 0\n",
      "Occupation = 0\n",
      "City_Category = 0\n",
      "Stay_In_Current_City_Years = 0\n",
      "Marital_Status = 0\n",
      "Product_Category_1 = 0\n",
      "Product_Category_2 = 173638\n",
      "Product_Category_3 = 383247\n",
      "Purchase = 0\n"
     ]
    }
   ],
   "source": [
    "for c in train_data.columns:\n",
    "    # Filter the DataFrame for missing values in the current column\n",
    "    missing_values = train_data.filter(col(c).isNull() | isnan(c)).count()\n",
    "    \n",
    "    # Print the column name and the count of missing values\n",
    "    print(c, \"=\", missing_values)"
   ]
  },
  {
   "cell_type": "markdown",
   "id": "576260cc",
   "metadata": {},
   "source": [
    "Two columns have missing values:\n",
    "Product_Category_2 = 173,638 missing values and Product_Category_3 = 383,247 missing values."
   ]
  },
  {
   "cell_type": "markdown",
   "id": "deeef589",
   "metadata": {},
   "source": [
    "### Handling all the missing values in train dataset\n",
    "For numerical columns (Product_Category_2 and Product_Category_3), mode is used to fill the missing values since these columns represent product categories, which are discrete and categorical in nature."
   ]
  },
  {
   "cell_type": "code",
   "execution_count": 13,
   "id": "170600f9",
   "metadata": {},
   "outputs": [],
   "source": [
    "from pyspark.sql.functions import col, mode"
   ]
  },
  {
   "cell_type": "markdown",
   "id": "4683b789",
   "metadata": {},
   "source": [
    "Calculate the mode of Product_Category_2"
   ]
  },
  {
   "cell_type": "code",
   "execution_count": 14,
   "id": "a8317846",
   "metadata": {},
   "outputs": [],
   "source": [
    "mode_value_cat2_train = train_data.select(mode(\"Product_Category_2\")).collect()[0][0]"
   ]
  },
  {
   "cell_type": "markdown",
   "id": "6e0e7eb1",
   "metadata": {},
   "source": [
    "Calculate the mode of Product_Category_3"
   ]
  },
  {
   "cell_type": "code",
   "execution_count": 15,
   "id": "05ce4b61",
   "metadata": {},
   "outputs": [],
   "source": [
    "mode_value_cat3_train = train_data.select(mode(\"Product_Category_3\")).collect()[0][0]"
   ]
  },
  {
   "cell_type": "markdown",
   "id": "ce1327f5",
   "metadata": {},
   "source": [
    "Fill missing values with the mode values"
   ]
  },
  {
   "cell_type": "code",
   "execution_count": 16,
   "id": "57560acc",
   "metadata": {},
   "outputs": [],
   "source": [
    "train_data = train_data.fillna(mode_value_cat2_train, subset=[\"Product_Category_2\"]).fillna(mode_value_cat3_train, subset=[\"Product_Category_3\"])"
   ]
  },
  {
   "cell_type": "markdown",
   "id": "0d48524e",
   "metadata": {},
   "source": [
    "### Test Dataset\n",
    "Iterate over the columns of the Test DataFrame"
   ]
  },
  {
   "cell_type": "code",
   "execution_count": 17,
   "id": "813e927d",
   "metadata": {},
   "outputs": [
    {
     "name": "stdout",
     "output_type": "stream",
     "text": [
      "User_ID = 0\n",
      "Product_ID = 0\n",
      "Gender = 0\n",
      "Age = 0\n",
      "Occupation = 0\n",
      "City_Category = 0\n",
      "Stay_In_Current_City_Years = 0\n",
      "Marital_Status = 0\n",
      "Product_Category_1 = 0\n",
      "Product_Category_2 = 72344\n",
      "Product_Category_3 = 162562\n"
     ]
    }
   ],
   "source": [
    "for c in test_data.columns:\n",
    "    # Filter the DataFrame for missing values in the current column\n",
    "    missing_values = test_data.filter(col(c).isNull() | isnan(c)).count()\n",
    "    \n",
    "    # Print the column name and the count of missing values\n",
    "    print(c, \"=\", missing_values)"
   ]
  },
  {
   "cell_type": "markdown",
   "id": "bca92fca",
   "metadata": {},
   "source": [
    "Two columns have missing values: Product_Category_2 = 72344 missing values and Product_Category_3 = 162562 missing values."
   ]
  },
  {
   "cell_type": "markdown",
   "id": "3d471bc0",
   "metadata": {},
   "source": [
    "### Handling all the missing values in test dataset\n",
    "For numerical columns (Product_Category_2 and Product_Category_3), mode is used to fill the missing values since these columns represent product categories, which are discrete and categorical in nature."
   ]
  },
  {
   "cell_type": "markdown",
   "id": "39acb345",
   "metadata": {},
   "source": [
    "Calculate the mode of Product_Category_2"
   ]
  },
  {
   "cell_type": "code",
   "execution_count": 18,
   "id": "9238b754",
   "metadata": {},
   "outputs": [],
   "source": [
    "mode_value_cat2_test = test_data.select(mode(\"Product_Category_2\")).collect()[0][0]"
   ]
  },
  {
   "cell_type": "markdown",
   "id": "72dcb457",
   "metadata": {},
   "source": [
    "Calculate the mode of Product_Category_3"
   ]
  },
  {
   "cell_type": "code",
   "execution_count": 19,
   "id": "f64cfbc0",
   "metadata": {},
   "outputs": [],
   "source": [
    "mode_value_cat3_test = test_data.select(mode(\"Product_Category_3\")).collect()[0][0]"
   ]
  },
  {
   "cell_type": "markdown",
   "id": "ebb915df",
   "metadata": {},
   "source": [
    "Fill missing values with the mode values"
   ]
  },
  {
   "cell_type": "code",
   "execution_count": 20,
   "id": "c2674b69",
   "metadata": {},
   "outputs": [],
   "source": [
    "test_data = test_data.fillna(mode_value_cat2_test, subset=[\"Product_Category_2\"]).fillna(mode_value_cat3_test, subset=[\"Product_Category_3\"])"
   ]
  },
  {
   "cell_type": "markdown",
   "id": "90bb8570",
   "metadata": {},
   "source": [
    "## Question 3: How many distinct values per column?\n",
    "Calculating and displaying the distinct counts for each column in a train_data dataset."
   ]
  },
  {
   "cell_type": "code",
   "execution_count": 21,
   "id": "d11c2c24",
   "metadata": {},
   "outputs": [],
   "source": [
    "from pyspark.sql import functions as F"
   ]
  },
  {
   "cell_type": "markdown",
   "id": "b2e12f53",
   "metadata": {},
   "source": [
    "Calculate the count of distinct values for each column"
   ]
  },
  {
   "cell_type": "code",
   "execution_count": 22,
   "id": "896a6953",
   "metadata": {},
   "outputs": [],
   "source": [
    "distinct_counts = train_data.agg(*(F.countDistinct(F.col(c)).alias(c) for c in train_data.columns))"
   ]
  },
  {
   "cell_type": "markdown",
   "id": "b3eb0501",
   "metadata": {},
   "source": [
    "Print the distinct counts for each column"
   ]
  },
  {
   "cell_type": "code",
   "execution_count": 23,
   "id": "79fe6951",
   "metadata": {},
   "outputs": [
    {
     "name": "stdout",
     "output_type": "stream",
     "text": [
      "User_ID = 5891\n",
      "Product_ID = 3631\n",
      "Gender = 2\n",
      "Age = 7\n",
      "Occupation = 21\n",
      "City_Category = 3\n",
      "Stay_In_Current_City_Years = 5\n",
      "Marital_Status = 2\n",
      "Product_Category_1 = 20\n",
      "Product_Category_2 = 17\n",
      "Product_Category_3 = 15\n",
      "Purchase = 18105\n"
     ]
    }
   ],
   "source": [
    "for c in train_data.columns:\n",
    "    distinct_values = distinct_counts.select(c).collect()[0][0]\n",
    "    print(c, \"=\", distinct_values)"
   ]
  },
  {
   "cell_type": "markdown",
   "id": "c5beee63",
   "metadata": {},
   "source": [
    "## Question 4: Count category values within each of the following columns:\n",
    "#### ● Gender\n",
    "#### ● Age\n",
    "#### ● City_Category\n",
    "#### ● Stay_In_Current_City_Years\n",
    "#### ● Marital_Status\n",
    "\n",
    "Counting the number of occurrences of each category within specified columns in a train_data dataset and displaying the results."
   ]
  },
  {
   "cell_type": "code",
   "execution_count": 24,
   "id": "140227bb",
   "metadata": {},
   "outputs": [],
   "source": [
    "from pyspark.sql.functions import count"
   ]
  },
  {
   "cell_type": "markdown",
   "id": "91293f40",
   "metadata": {},
   "source": [
    "Define the columns to count categories"
   ]
  },
  {
   "cell_type": "code",
   "execution_count": 25,
   "id": "314c669a",
   "metadata": {},
   "outputs": [],
   "source": [
    "category_columns = [\"Gender\", \"Age\", \"City_Category\", \"Stay_In_Current_City_Years\", \"Marital_Status\"]"
   ]
  },
  {
   "cell_type": "markdown",
   "id": "f19a0752",
   "metadata": {},
   "source": [
    "Count category values within each column"
   ]
  },
  {
   "cell_type": "code",
   "execution_count": 26,
   "id": "5ebccbf6",
   "metadata": {},
   "outputs": [],
   "source": [
    "category_counts = {}\n",
    "for column in category_columns:\n",
    "    category_counts[column] = train_data.groupBy(column).agg(count(\"*\").alias(\"count\"))"
   ]
  },
  {
   "cell_type": "markdown",
   "id": "8351c886",
   "metadata": {},
   "source": [
    "Display the category counts"
   ]
  },
  {
   "cell_type": "code",
   "execution_count": 27,
   "id": "60d652a9",
   "metadata": {},
   "outputs": [
    {
     "name": "stdout",
     "output_type": "stream",
     "text": [
      "Category Counts Gender =\n",
      "+------+------+\n",
      "|Gender| count|\n",
      "+------+------+\n",
      "|     F|135809|\n",
      "|     M|414259|\n",
      "+------+------+\n",
      "\n",
      "Category Counts Age =\n",
      "+-----+------+\n",
      "|  Age| count|\n",
      "+-----+------+\n",
      "|18-25| 99660|\n",
      "|26-35|219587|\n",
      "| 0-17| 15102|\n",
      "|46-50| 45701|\n",
      "|51-55| 38501|\n",
      "|36-45|110013|\n",
      "|  55+| 21504|\n",
      "+-----+------+\n",
      "\n",
      "Category Counts City_Category =\n",
      "+-------------+------+\n",
      "|City_Category| count|\n",
      "+-------------+------+\n",
      "|            B|231173|\n",
      "|            C|171175|\n",
      "|            A|147720|\n",
      "+-------------+------+\n",
      "\n",
      "Category Counts Stay_In_Current_City_Years =\n",
      "+--------------------------+------+\n",
      "|Stay_In_Current_City_Years| count|\n",
      "+--------------------------+------+\n",
      "|                         3| 95285|\n",
      "|                         0| 74398|\n",
      "|                        4+| 84726|\n",
      "|                         1|193821|\n",
      "|                         2|101838|\n",
      "+--------------------------+------+\n",
      "\n",
      "Category Counts Marital_Status =\n",
      "+--------------+------+\n",
      "|Marital_Status| count|\n",
      "+--------------+------+\n",
      "|             1|225337|\n",
      "|             0|324731|\n",
      "+--------------+------+\n",
      "\n"
     ]
    }
   ],
   "source": [
    "for column, counts_df in category_counts.items():\n",
    "    print(f\"Category Counts {column} =\")\n",
    "    counts_df.show()"
   ]
  },
  {
   "cell_type": "markdown",
   "id": "07db25b9",
   "metadata": {},
   "source": [
    "## Question 5: Calculate the average Purchase for each of the following columns:\n",
    "#### ● Gender\n",
    "#### ● Age\n",
    "#### ● City_Category\n",
    "#### ● Stay_In_Current_City_Years\n",
    "#### ● Marital_Status\n",
    "\n",
    "Calculating the average purchase for each of the specified columns in a train_data dataset and displaying the results."
   ]
  },
  {
   "cell_type": "code",
   "execution_count": 28,
   "id": "57a6c74b",
   "metadata": {},
   "outputs": [],
   "source": [
    "from pyspark.sql.functions import avg"
   ]
  },
  {
   "cell_type": "markdown",
   "id": "45456458",
   "metadata": {},
   "source": [
    "Define the columns to calculate average purchase"
   ]
  },
  {
   "cell_type": "code",
   "execution_count": 29,
   "id": "38dc4898",
   "metadata": {},
   "outputs": [],
   "source": [
    "average_purchase_columns = [\"Gender\", \"Age\", \"City_Category\", \"Stay_In_Current_City_Years\", \"Marital_Status\"]"
   ]
  },
  {
   "cell_type": "markdown",
   "id": "a59249de",
   "metadata": {},
   "source": [
    "Calculate the average purchase for each column"
   ]
  },
  {
   "cell_type": "code",
   "execution_count": 30,
   "id": "4a31eb35",
   "metadata": {},
   "outputs": [],
   "source": [
    "average_purchase = {}\n",
    "for column in average_purchase_columns:\n",
    "    average_purchase[column] = train_data.groupBy(column).agg(avg(\"Purchase\").alias(\"Average_purchase\"))"
   ]
  },
  {
   "cell_type": "markdown",
   "id": "10fb8d57",
   "metadata": {},
   "source": [
    "Display the average purchase"
   ]
  },
  {
   "cell_type": "code",
   "execution_count": 31,
   "id": "1c7a2793",
   "metadata": {},
   "outputs": [
    {
     "name": "stdout",
     "output_type": "stream",
     "text": [
      "Average Purchase by Gender =\n",
      "+------+-----------------+\n",
      "|Gender| Average_purchase|\n",
      "+------+-----------------+\n",
      "|     F|8734.565765155476|\n",
      "|     M|9437.526040472265|\n",
      "+------+-----------------+\n",
      "\n",
      "Average Purchase by Age =\n",
      "+-----+-----------------+\n",
      "|  Age| Average_purchase|\n",
      "+-----+-----------------+\n",
      "|18-25|9169.663606261289|\n",
      "|26-35|9252.690632869888|\n",
      "| 0-17|8933.464640444974|\n",
      "|46-50|9208.625697468327|\n",
      "|51-55|9534.808030960236|\n",
      "|36-45|9331.350694917874|\n",
      "|  55+|9336.280459449405|\n",
      "+-----+-----------------+\n",
      "\n",
      "Average Purchase by City_Category =\n",
      "+-------------+-----------------+\n",
      "|City_Category| Average_purchase|\n",
      "+-------------+-----------------+\n",
      "|            B|9151.300562781986|\n",
      "|            C| 9719.92099313568|\n",
      "|            A|8911.939216084484|\n",
      "+-------------+-----------------+\n",
      "\n",
      "Average Purchase by Stay_In_Current_City_Years =\n",
      "+--------------------------+-----------------+\n",
      "|Stay_In_Current_City_Years| Average_purchase|\n",
      "+--------------------------+-----------------+\n",
      "|                         3|9286.904119221284|\n",
      "|                         0|9180.075122987177|\n",
      "|                        4+| 9275.59887165687|\n",
      "|                         1|9250.145923300364|\n",
      "|                         2|9320.429810090536|\n",
      "+--------------------------+-----------------+\n",
      "\n",
      "Average Purchase by Marital_Status =\n",
      "+--------------+-----------------+\n",
      "|Marital_Status| Average_purchase|\n",
      "+--------------+-----------------+\n",
      "|             1|9261.174574082374|\n",
      "|             0|9265.907618921507|\n",
      "+--------------+-----------------+\n",
      "\n"
     ]
    }
   ],
   "source": [
    "for column, avg_purchase_df in average_purchase.items():\n",
    "    print(f\"Average Purchase by {column} =\")\n",
    "    avg_purchase_df.show()"
   ]
  },
  {
   "cell_type": "markdown",
   "id": "dab5b56b",
   "metadata": {},
   "source": [
    "## Question 6: Label encode the following columns:\n",
    "#### ● Age\n",
    "#### ● Gender\n",
    "#### ● Stay_In_Current_City_Years\n",
    "#### ● City_Category\n",
    "\n",
    "\n",
    "To label encode the specified columns in the train_data DataFrame, the StringIndexer class is used from the pyspark.ml.feature module. "
   ]
  },
  {
   "cell_type": "code",
   "execution_count": 32,
   "id": "1fb94098",
   "metadata": {},
   "outputs": [],
   "source": [
    "from pyspark.ml.feature import StringIndexer"
   ]
  },
  {
   "cell_type": "markdown",
   "id": "0eb4365d",
   "metadata": {},
   "source": [
    "### Train Dataset"
   ]
  },
  {
   "cell_type": "markdown",
   "id": "c1a318d6",
   "metadata": {},
   "source": [
    "Define the columns to be label encoded"
   ]
  },
  {
   "cell_type": "code",
   "execution_count": 33,
   "id": "3248921c",
   "metadata": {},
   "outputs": [],
   "source": [
    "columns_to_encode = [\"Age\", \"Gender\", \"Stay_In_Current_City_Years\", \"City_Category\"]"
   ]
  },
  {
   "cell_type": "markdown",
   "id": "b5f1dcfa",
   "metadata": {},
   "source": [
    "Create a StringIndexer object for each column and set the input and output column names"
   ]
  },
  {
   "cell_type": "code",
   "execution_count": 34,
   "id": "46f23c9e",
   "metadata": {},
   "outputs": [],
   "source": [
    "indexers = [StringIndexer(inputCol=column, outputCol=column+\"_labelEncoded\") for column in columns_to_encode]"
   ]
  },
  {
   "cell_type": "markdown",
   "id": "36db2cd4",
   "metadata": {},
   "source": [
    "Fit the StringIndexer models on the training data"
   ]
  },
  {
   "cell_type": "code",
   "execution_count": 35,
   "id": "a7359163",
   "metadata": {},
   "outputs": [],
   "source": [
    "indexers_models = [indexer.fit(train_data) for indexer in indexers]"
   ]
  },
  {
   "cell_type": "markdown",
   "id": "3753f25f",
   "metadata": {},
   "source": [
    "Transform the training data using the fitted StringIndexer models"
   ]
  },
  {
   "cell_type": "code",
   "execution_count": 36,
   "id": "721cb8e7",
   "metadata": {},
   "outputs": [],
   "source": [
    "for model in indexers_models:\n",
    "    train_data = model.transform(train_data)"
   ]
  },
  {
   "cell_type": "markdown",
   "id": "5b55b508",
   "metadata": {},
   "source": [
    "Show the encoded columns"
   ]
  },
  {
   "cell_type": "code",
   "execution_count": 37,
   "id": "f396303b",
   "metadata": {},
   "outputs": [
    {
     "name": "stdout",
     "output_type": "stream",
     "text": [
      "+----------------+-------------------+---------------------------------------+--------------------------+\n",
      "|Age_labelEncoded|Gender_labelEncoded|Stay_In_Current_City_Years_labelEncoded|City_Category_labelEncoded|\n",
      "+----------------+-------------------+---------------------------------------+--------------------------+\n",
      "|             6.0|                1.0|                                    1.0|                       2.0|\n",
      "|             6.0|                1.0|                                    1.0|                       2.0|\n",
      "|             6.0|                1.0|                                    1.0|                       2.0|\n",
      "|             6.0|                1.0|                                    1.0|                       2.0|\n",
      "|             5.0|                0.0|                                    3.0|                       1.0|\n",
      "+----------------+-------------------+---------------------------------------+--------------------------+\n",
      "only showing top 5 rows\n",
      "\n"
     ]
    }
   ],
   "source": [
    "train_data.select([\"Age_labelEncoded\", \"Gender_labelEncoded\", \"Stay_In_Current_City_Years_labelEncoded\", \"City_Category_labelEncoded\"]).show(5)"
   ]
  },
  {
   "cell_type": "markdown",
   "id": "be7e285e",
   "metadata": {},
   "source": [
    "### Test Dataset"
   ]
  },
  {
   "cell_type": "markdown",
   "id": "313ff110",
   "metadata": {},
   "source": [
    "Define the columns to be label encoded"
   ]
  },
  {
   "cell_type": "code",
   "execution_count": 38,
   "id": "632c869a",
   "metadata": {},
   "outputs": [],
   "source": [
    "columns_to_encode = [\"Age\", \"Gender\", \"Stay_In_Current_City_Years\", \"City_Category\"]"
   ]
  },
  {
   "cell_type": "markdown",
   "id": "4d0767d4",
   "metadata": {},
   "source": [
    "Create a StringIndexer object for each column and set the input and output column names"
   ]
  },
  {
   "cell_type": "code",
   "execution_count": 39,
   "id": "c4dc7323",
   "metadata": {},
   "outputs": [],
   "source": [
    "indexers = [StringIndexer(inputCol=column, outputCol=column+\"_labelEncoded\") for column in columns_to_encode]"
   ]
  },
  {
   "cell_type": "markdown",
   "id": "fa76cc1d",
   "metadata": {},
   "source": [
    "Fit the StringIndexer models on the test data"
   ]
  },
  {
   "cell_type": "code",
   "execution_count": 40,
   "id": "68739ea7",
   "metadata": {},
   "outputs": [],
   "source": [
    "indexers_models = [indexer.fit(test_data) for indexer in indexers]"
   ]
  },
  {
   "cell_type": "markdown",
   "id": "a3645674",
   "metadata": {},
   "source": [
    "Transform the test data using the fitted StringIndexer models"
   ]
  },
  {
   "cell_type": "code",
   "execution_count": 41,
   "id": "d5ba8071",
   "metadata": {},
   "outputs": [],
   "source": [
    "for model in indexers_models:\n",
    "    test_data = model.transform(test_data)"
   ]
  },
  {
   "cell_type": "markdown",
   "id": "4a5174d8",
   "metadata": {},
   "source": [
    "Show the encoded columns"
   ]
  },
  {
   "cell_type": "code",
   "execution_count": 42,
   "id": "7aaeede7",
   "metadata": {},
   "outputs": [
    {
     "name": "stdout",
     "output_type": "stream",
     "text": [
      "+----------------+-------------------+---------------------------------------+--------------------------+\n",
      "|Age_labelEncoded|Gender_labelEncoded|Stay_In_Current_City_Years_labelEncoded|City_Category_labelEncoded|\n",
      "+----------------+-------------------+---------------------------------------+--------------------------+\n",
      "|             3.0|                0.0|                                    1.0|                       0.0|\n",
      "|             0.0|                0.0|                                    4.0|                       1.0|\n",
      "|             1.0|                1.0|                                    3.0|                       0.0|\n",
      "|             1.0|                1.0|                                    3.0|                       0.0|\n",
      "|             0.0|                1.0|                                    0.0|                       1.0|\n",
      "+----------------+-------------------+---------------------------------------+--------------------------+\n",
      "only showing top 5 rows\n",
      "\n"
     ]
    }
   ],
   "source": [
    "test_data.select([\"Age_labelEncoded\", \"Gender_labelEncoded\", \"Stay_In_Current_City_Years_labelEncoded\", \"City_Category_labelEncoded\"]).show(5)"
   ]
  },
  {
   "cell_type": "markdown",
   "id": "c757c7d1",
   "metadata": {},
   "source": [
    "## Question: 7. One-Hot encode the following columns:\n",
    "#### ● Gender\n",
    "#### ● City_Category\n",
    "#### ● Occupation"
   ]
  },
  {
   "cell_type": "code",
   "execution_count": 43,
   "id": "8f231071",
   "metadata": {},
   "outputs": [],
   "source": [
    "from pyspark.ml.feature import StringIndexer, OneHotEncoder"
   ]
  },
  {
   "cell_type": "markdown",
   "id": "5e0a5e73",
   "metadata": {},
   "source": [
    "### Train Dataset\n",
    "Define the columns to be one-hot encoded"
   ]
  },
  {
   "cell_type": "code",
   "execution_count": 44,
   "id": "dfc377ca",
   "metadata": {},
   "outputs": [],
   "source": [
    "columns_to_encode = [\"Gender\", \"City_Category\", \"Occupation\"]"
   ]
  },
  {
   "cell_type": "markdown",
   "id": "165f1fff",
   "metadata": {},
   "source": [
    "Create a StringIndexer for each column and set the input and output column names"
   ]
  },
  {
   "cell_type": "code",
   "execution_count": 45,
   "id": "c9c4142c",
   "metadata": {},
   "outputs": [],
   "source": [
    "indexers = [StringIndexer(inputCol=column, outputCol=column+\"_index\") for column in columns_to_encode]"
   ]
  },
  {
   "cell_type": "markdown",
   "id": "f8f5dc59",
   "metadata": {},
   "source": [
    "Fit the StringIndexer models on the training data"
   ]
  },
  {
   "cell_type": "code",
   "execution_count": 46,
   "id": "7628a226",
   "metadata": {},
   "outputs": [],
   "source": [
    "indexer_models = [indexer.fit(train_data) for indexer in indexers]"
   ]
  },
  {
   "cell_type": "markdown",
   "id": "a3b53470",
   "metadata": {},
   "source": [
    "Transform the training data using the fitted StringIndexer models"
   ]
  },
  {
   "cell_type": "code",
   "execution_count": 47,
   "id": "819b9466",
   "metadata": {},
   "outputs": [],
   "source": [
    "for model in indexer_models:\n",
    "    train_data = model.transform(train_data)"
   ]
  },
  {
   "cell_type": "markdown",
   "id": "087844f5",
   "metadata": {},
   "source": [
    "Create a OneHotEncoder for each indexed column and set the input and output column names"
   ]
  },
  {
   "cell_type": "code",
   "execution_count": 48,
   "id": "92735b0c",
   "metadata": {},
   "outputs": [],
   "source": [
    "encoders = [OneHotEncoder(inputCol=column+\"_index\", outputCol=column+\"_OneHotEncoded\") for column in columns_to_encode]"
   ]
  },
  {
   "cell_type": "markdown",
   "id": "d9c8614d",
   "metadata": {},
   "source": [
    "Fit the OneHotEncoder models on the training data"
   ]
  },
  {
   "cell_type": "code",
   "execution_count": 49,
   "id": "bc82b744",
   "metadata": {},
   "outputs": [],
   "source": [
    "encoder_models = [encoder.fit(train_data) for encoder in encoders]"
   ]
  },
  {
   "cell_type": "markdown",
   "id": "d55441f2",
   "metadata": {},
   "source": [
    "Transform the training data using the fitted OneHotEncoder models"
   ]
  },
  {
   "cell_type": "code",
   "execution_count": 50,
   "id": "ed5a0bfd",
   "metadata": {},
   "outputs": [],
   "source": [
    "for model in encoder_models:\n",
    "    train_data = model.transform(train_data)"
   ]
  },
  {
   "cell_type": "markdown",
   "id": "9641be0f",
   "metadata": {},
   "source": [
    "Show the encoded columns"
   ]
  },
  {
   "cell_type": "code",
   "execution_count": 51,
   "id": "1a2e20c4",
   "metadata": {},
   "outputs": [
    {
     "name": "stdout",
     "output_type": "stream",
     "text": [
      "+--------------------+---------------------------+------------------------+\n",
      "|Gender_OneHotEncoded|City_Category_OneHotEncoded|Occupation_OneHotEncoded|\n",
      "+--------------------+---------------------------+------------------------+\n",
      "|           (1,[],[])|                  (2,[],[])|         (20,[12],[1.0])|\n",
      "|           (1,[],[])|                  (2,[],[])|         (20,[12],[1.0])|\n",
      "|           (1,[],[])|                  (2,[],[])|         (20,[12],[1.0])|\n",
      "|           (1,[],[])|                  (2,[],[])|         (20,[12],[1.0])|\n",
      "|       (1,[0],[1.0])|              (2,[1],[1.0])|          (20,[9],[1.0])|\n",
      "+--------------------+---------------------------+------------------------+\n",
      "only showing top 5 rows\n",
      "\n"
     ]
    }
   ],
   "source": [
    "train_data.select([\"Gender_OneHotEncoded\", \"City_Category_OneHotEncoded\", \"Occupation_OneHotEncoded\"]).show(5)"
   ]
  },
  {
   "cell_type": "markdown",
   "id": "7804f284",
   "metadata": {},
   "source": [
    "### Test Dataset"
   ]
  },
  {
   "cell_type": "markdown",
   "id": "be93d6bb",
   "metadata": {},
   "source": [
    "Fit the StringIndexer models on the test data"
   ]
  },
  {
   "cell_type": "code",
   "execution_count": 52,
   "id": "597c4d7e",
   "metadata": {},
   "outputs": [],
   "source": [
    "indexer_models = [indexer.fit(test_data) for indexer in indexers]"
   ]
  },
  {
   "cell_type": "markdown",
   "id": "8660e884",
   "metadata": {},
   "source": [
    "Transform the test data using the fitted StringIndexer models"
   ]
  },
  {
   "cell_type": "code",
   "execution_count": 53,
   "id": "b940f993",
   "metadata": {},
   "outputs": [],
   "source": [
    "for model in indexer_models:\n",
    "    test_data = model.transform(test_data)"
   ]
  },
  {
   "cell_type": "markdown",
   "id": "c5d42816",
   "metadata": {},
   "source": [
    "Create a OneHotEncoder for each indexed column and set the input and output column names"
   ]
  },
  {
   "cell_type": "code",
   "execution_count": 54,
   "id": "eaf2b7a0",
   "metadata": {},
   "outputs": [],
   "source": [
    "encoders = [OneHotEncoder(inputCol=column+\"_index\", outputCol=column+\"_OneHotEncoded\") for column in columns_to_encode]"
   ]
  },
  {
   "cell_type": "markdown",
   "id": "c83e091d",
   "metadata": {},
   "source": [
    "Fit the OneHotEncoder models on the test data"
   ]
  },
  {
   "cell_type": "code",
   "execution_count": 55,
   "id": "328041b9",
   "metadata": {},
   "outputs": [],
   "source": [
    "encoder_models = [encoder.fit(test_data) for encoder in encoders]"
   ]
  },
  {
   "cell_type": "markdown",
   "id": "6f8215d5",
   "metadata": {},
   "source": [
    "Transform the test data using the fitted OneHotEncoder models"
   ]
  },
  {
   "cell_type": "code",
   "execution_count": 56,
   "id": "d255af5f",
   "metadata": {},
   "outputs": [],
   "source": [
    "for model in encoder_models:\n",
    "    test_data = model.transform(test_data)"
   ]
  },
  {
   "cell_type": "markdown",
   "id": "f44d3b7c",
   "metadata": {},
   "source": [
    "Show the encoded columns"
   ]
  },
  {
   "cell_type": "code",
   "execution_count": 57,
   "id": "a588f901",
   "metadata": {},
   "outputs": [
    {
     "name": "stdout",
     "output_type": "stream",
     "text": [
      "+--------------------+---------------------------+------------------------+\n",
      "|Gender_OneHotEncoded|City_Category_OneHotEncoded|Occupation_OneHotEncoded|\n",
      "+--------------------+---------------------------+------------------------+\n",
      "|       (1,[0],[1.0])|              (2,[0],[1.0])|          (20,[2],[1.0])|\n",
      "|       (1,[0],[1.0])|              (2,[1],[1.0])|          (20,[4],[1.0])|\n",
      "|           (1,[],[])|              (2,[0],[1.0])|          (20,[3],[1.0])|\n",
      "|           (1,[],[])|              (2,[0],[1.0])|          (20,[3],[1.0])|\n",
      "|           (1,[],[])|              (2,[1],[1.0])|          (20,[3],[1.0])|\n",
      "+--------------------+---------------------------+------------------------+\n",
      "only showing top 5 rows\n",
      "\n"
     ]
    }
   ],
   "source": [
    "test_data.select([\"Gender_OneHotEncoded\", \"City_Category_OneHotEncoded\", \"Occupation_OneHotEncoded\"]).show(5)"
   ]
  },
  {
   "cell_type": "code",
   "execution_count": 58,
   "id": "06b8bb7d",
   "metadata": {},
   "outputs": [
    {
     "name": "stdout",
     "output_type": "stream",
     "text": [
      "root\n",
      " |-- User_ID: integer (nullable = true)\n",
      " |-- Product_ID: string (nullable = true)\n",
      " |-- Gender: string (nullable = true)\n",
      " |-- Age: string (nullable = true)\n",
      " |-- Occupation: integer (nullable = true)\n",
      " |-- City_Category: string (nullable = true)\n",
      " |-- Stay_In_Current_City_Years: string (nullable = true)\n",
      " |-- Marital_Status: integer (nullable = true)\n",
      " |-- Product_Category_1: integer (nullable = true)\n",
      " |-- Product_Category_2: integer (nullable = true)\n",
      " |-- Product_Category_3: integer (nullable = true)\n",
      " |-- Purchase: integer (nullable = true)\n",
      " |-- Age_labelEncoded: double (nullable = false)\n",
      " |-- Gender_labelEncoded: double (nullable = false)\n",
      " |-- Stay_In_Current_City_Years_labelEncoded: double (nullable = false)\n",
      " |-- City_Category_labelEncoded: double (nullable = false)\n",
      " |-- Gender_index: double (nullable = false)\n",
      " |-- City_Category_index: double (nullable = false)\n",
      " |-- Occupation_index: double (nullable = false)\n",
      " |-- Gender_OneHotEncoded: vector (nullable = true)\n",
      " |-- City_Category_OneHotEncoded: vector (nullable = true)\n",
      " |-- Occupation_OneHotEncoded: vector (nullable = true)\n",
      "\n"
     ]
    }
   ],
   "source": [
    "train_data.printSchema()"
   ]
  },
  {
   "cell_type": "code",
   "execution_count": 59,
   "id": "694c862e",
   "metadata": {},
   "outputs": [
    {
     "name": "stdout",
     "output_type": "stream",
     "text": [
      "root\n",
      " |-- User_ID: integer (nullable = true)\n",
      " |-- Product_ID: string (nullable = true)\n",
      " |-- Gender: string (nullable = true)\n",
      " |-- Age: string (nullable = true)\n",
      " |-- Occupation: integer (nullable = true)\n",
      " |-- City_Category: string (nullable = true)\n",
      " |-- Stay_In_Current_City_Years: string (nullable = true)\n",
      " |-- Marital_Status: integer (nullable = true)\n",
      " |-- Product_Category_1: integer (nullable = true)\n",
      " |-- Product_Category_2: integer (nullable = true)\n",
      " |-- Product_Category_3: integer (nullable = true)\n",
      " |-- Age_labelEncoded: double (nullable = false)\n",
      " |-- Gender_labelEncoded: double (nullable = false)\n",
      " |-- Stay_In_Current_City_Years_labelEncoded: double (nullable = false)\n",
      " |-- City_Category_labelEncoded: double (nullable = false)\n",
      " |-- Gender_index: double (nullable = false)\n",
      " |-- City_Category_index: double (nullable = false)\n",
      " |-- Occupation_index: double (nullable = false)\n",
      " |-- Gender_OneHotEncoded: vector (nullable = true)\n",
      " |-- City_Category_OneHotEncoded: vector (nullable = true)\n",
      " |-- Occupation_OneHotEncoded: vector (nullable = true)\n",
      "\n"
     ]
    }
   ],
   "source": [
    "test_data.printSchema()"
   ]
  },
  {
   "cell_type": "code",
   "execution_count": 60,
   "id": "fa925f99",
   "metadata": {},
   "outputs": [
    {
     "data": {
      "text/html": [
       "<div>\n",
       "<style scoped>\n",
       "    .dataframe tbody tr th:only-of-type {\n",
       "        vertical-align: middle;\n",
       "    }\n",
       "\n",
       "    .dataframe tbody tr th {\n",
       "        vertical-align: top;\n",
       "    }\n",
       "\n",
       "    .dataframe thead th {\n",
       "        text-align: right;\n",
       "    }\n",
       "</style>\n",
       "<table border=\"1\" class=\"dataframe\">\n",
       "  <thead>\n",
       "    <tr style=\"text-align: right;\">\n",
       "      <th></th>\n",
       "      <th>User_ID</th>\n",
       "      <th>Product_ID</th>\n",
       "      <th>Gender</th>\n",
       "      <th>Age</th>\n",
       "      <th>Occupation</th>\n",
       "      <th>City_Category</th>\n",
       "      <th>Stay_In_Current_City_Years</th>\n",
       "      <th>Marital_Status</th>\n",
       "      <th>Product_Category_1</th>\n",
       "      <th>Product_Category_2</th>\n",
       "      <th>...</th>\n",
       "      <th>Age_labelEncoded</th>\n",
       "      <th>Gender_labelEncoded</th>\n",
       "      <th>Stay_In_Current_City_Years_labelEncoded</th>\n",
       "      <th>City_Category_labelEncoded</th>\n",
       "      <th>Gender_index</th>\n",
       "      <th>City_Category_index</th>\n",
       "      <th>Occupation_index</th>\n",
       "      <th>Gender_OneHotEncoded</th>\n",
       "      <th>City_Category_OneHotEncoded</th>\n",
       "      <th>Occupation_OneHotEncoded</th>\n",
       "    </tr>\n",
       "  </thead>\n",
       "  <tbody>\n",
       "    <tr>\n",
       "      <th>0</th>\n",
       "      <td>1000001</td>\n",
       "      <td>P00069042</td>\n",
       "      <td>F</td>\n",
       "      <td>0-17</td>\n",
       "      <td>10</td>\n",
       "      <td>A</td>\n",
       "      <td>2</td>\n",
       "      <td>0</td>\n",
       "      <td>3</td>\n",
       "      <td>8</td>\n",
       "      <td>...</td>\n",
       "      <td>6.0</td>\n",
       "      <td>1.0</td>\n",
       "      <td>1.0</td>\n",
       "      <td>2.0</td>\n",
       "      <td>1.0</td>\n",
       "      <td>2.0</td>\n",
       "      <td>12.0</td>\n",
       "      <td>(0.0)</td>\n",
       "      <td>(0.0, 0.0)</td>\n",
       "      <td>(0.0, 0.0, 0.0, 0.0, 0.0, 0.0, 0.0, 0.0, 0.0, ...</td>\n",
       "    </tr>\n",
       "    <tr>\n",
       "      <th>1</th>\n",
       "      <td>1000001</td>\n",
       "      <td>P00248942</td>\n",
       "      <td>F</td>\n",
       "      <td>0-17</td>\n",
       "      <td>10</td>\n",
       "      <td>A</td>\n",
       "      <td>2</td>\n",
       "      <td>0</td>\n",
       "      <td>1</td>\n",
       "      <td>6</td>\n",
       "      <td>...</td>\n",
       "      <td>6.0</td>\n",
       "      <td>1.0</td>\n",
       "      <td>1.0</td>\n",
       "      <td>2.0</td>\n",
       "      <td>1.0</td>\n",
       "      <td>2.0</td>\n",
       "      <td>12.0</td>\n",
       "      <td>(0.0)</td>\n",
       "      <td>(0.0, 0.0)</td>\n",
       "      <td>(0.0, 0.0, 0.0, 0.0, 0.0, 0.0, 0.0, 0.0, 0.0, ...</td>\n",
       "    </tr>\n",
       "    <tr>\n",
       "      <th>2</th>\n",
       "      <td>1000001</td>\n",
       "      <td>P00087842</td>\n",
       "      <td>F</td>\n",
       "      <td>0-17</td>\n",
       "      <td>10</td>\n",
       "      <td>A</td>\n",
       "      <td>2</td>\n",
       "      <td>0</td>\n",
       "      <td>12</td>\n",
       "      <td>8</td>\n",
       "      <td>...</td>\n",
       "      <td>6.0</td>\n",
       "      <td>1.0</td>\n",
       "      <td>1.0</td>\n",
       "      <td>2.0</td>\n",
       "      <td>1.0</td>\n",
       "      <td>2.0</td>\n",
       "      <td>12.0</td>\n",
       "      <td>(0.0)</td>\n",
       "      <td>(0.0, 0.0)</td>\n",
       "      <td>(0.0, 0.0, 0.0, 0.0, 0.0, 0.0, 0.0, 0.0, 0.0, ...</td>\n",
       "    </tr>\n",
       "    <tr>\n",
       "      <th>3</th>\n",
       "      <td>1000001</td>\n",
       "      <td>P00085442</td>\n",
       "      <td>F</td>\n",
       "      <td>0-17</td>\n",
       "      <td>10</td>\n",
       "      <td>A</td>\n",
       "      <td>2</td>\n",
       "      <td>0</td>\n",
       "      <td>12</td>\n",
       "      <td>14</td>\n",
       "      <td>...</td>\n",
       "      <td>6.0</td>\n",
       "      <td>1.0</td>\n",
       "      <td>1.0</td>\n",
       "      <td>2.0</td>\n",
       "      <td>1.0</td>\n",
       "      <td>2.0</td>\n",
       "      <td>12.0</td>\n",
       "      <td>(0.0)</td>\n",
       "      <td>(0.0, 0.0)</td>\n",
       "      <td>(0.0, 0.0, 0.0, 0.0, 0.0, 0.0, 0.0, 0.0, 0.0, ...</td>\n",
       "    </tr>\n",
       "    <tr>\n",
       "      <th>4</th>\n",
       "      <td>1000002</td>\n",
       "      <td>P00285442</td>\n",
       "      <td>M</td>\n",
       "      <td>55+</td>\n",
       "      <td>16</td>\n",
       "      <td>C</td>\n",
       "      <td>4+</td>\n",
       "      <td>0</td>\n",
       "      <td>8</td>\n",
       "      <td>8</td>\n",
       "      <td>...</td>\n",
       "      <td>5.0</td>\n",
       "      <td>0.0</td>\n",
       "      <td>3.0</td>\n",
       "      <td>1.0</td>\n",
       "      <td>0.0</td>\n",
       "      <td>1.0</td>\n",
       "      <td>9.0</td>\n",
       "      <td>(1.0)</td>\n",
       "      <td>(0.0, 1.0)</td>\n",
       "      <td>(0.0, 0.0, 0.0, 0.0, 0.0, 0.0, 0.0, 0.0, 0.0, ...</td>\n",
       "    </tr>\n",
       "    <tr>\n",
       "      <th>...</th>\n",
       "      <td>...</td>\n",
       "      <td>...</td>\n",
       "      <td>...</td>\n",
       "      <td>...</td>\n",
       "      <td>...</td>\n",
       "      <td>...</td>\n",
       "      <td>...</td>\n",
       "      <td>...</td>\n",
       "      <td>...</td>\n",
       "      <td>...</td>\n",
       "      <td>...</td>\n",
       "      <td>...</td>\n",
       "      <td>...</td>\n",
       "      <td>...</td>\n",
       "      <td>...</td>\n",
       "      <td>...</td>\n",
       "      <td>...</td>\n",
       "      <td>...</td>\n",
       "      <td>...</td>\n",
       "      <td>...</td>\n",
       "      <td>...</td>\n",
       "    </tr>\n",
       "    <tr>\n",
       "      <th>550063</th>\n",
       "      <td>1006033</td>\n",
       "      <td>P00372445</td>\n",
       "      <td>M</td>\n",
       "      <td>51-55</td>\n",
       "      <td>13</td>\n",
       "      <td>B</td>\n",
       "      <td>1</td>\n",
       "      <td>1</td>\n",
       "      <td>20</td>\n",
       "      <td>8</td>\n",
       "      <td>...</td>\n",
       "      <td>4.0</td>\n",
       "      <td>0.0</td>\n",
       "      <td>0.0</td>\n",
       "      <td>0.0</td>\n",
       "      <td>0.0</td>\n",
       "      <td>0.0</td>\n",
       "      <td>17.0</td>\n",
       "      <td>(1.0)</td>\n",
       "      <td>(1.0, 0.0)</td>\n",
       "      <td>(0.0, 0.0, 0.0, 0.0, 0.0, 0.0, 0.0, 0.0, 0.0, ...</td>\n",
       "    </tr>\n",
       "    <tr>\n",
       "      <th>550064</th>\n",
       "      <td>1006035</td>\n",
       "      <td>P00375436</td>\n",
       "      <td>F</td>\n",
       "      <td>26-35</td>\n",
       "      <td>1</td>\n",
       "      <td>C</td>\n",
       "      <td>3</td>\n",
       "      <td>0</td>\n",
       "      <td>20</td>\n",
       "      <td>8</td>\n",
       "      <td>...</td>\n",
       "      <td>0.0</td>\n",
       "      <td>1.0</td>\n",
       "      <td>2.0</td>\n",
       "      <td>1.0</td>\n",
       "      <td>1.0</td>\n",
       "      <td>1.0</td>\n",
       "      <td>3.0</td>\n",
       "      <td>(0.0)</td>\n",
       "      <td>(0.0, 1.0)</td>\n",
       "      <td>(0.0, 0.0, 0.0, 1.0, 0.0, 0.0, 0.0, 0.0, 0.0, ...</td>\n",
       "    </tr>\n",
       "    <tr>\n",
       "      <th>550065</th>\n",
       "      <td>1006036</td>\n",
       "      <td>P00375436</td>\n",
       "      <td>F</td>\n",
       "      <td>26-35</td>\n",
       "      <td>15</td>\n",
       "      <td>B</td>\n",
       "      <td>4+</td>\n",
       "      <td>1</td>\n",
       "      <td>20</td>\n",
       "      <td>8</td>\n",
       "      <td>...</td>\n",
       "      <td>0.0</td>\n",
       "      <td>1.0</td>\n",
       "      <td>3.0</td>\n",
       "      <td>0.0</td>\n",
       "      <td>1.0</td>\n",
       "      <td>0.0</td>\n",
       "      <td>14.0</td>\n",
       "      <td>(0.0)</td>\n",
       "      <td>(1.0, 0.0)</td>\n",
       "      <td>(0.0, 0.0, 0.0, 0.0, 0.0, 0.0, 0.0, 0.0, 0.0, ...</td>\n",
       "    </tr>\n",
       "    <tr>\n",
       "      <th>550066</th>\n",
       "      <td>1006038</td>\n",
       "      <td>P00375436</td>\n",
       "      <td>F</td>\n",
       "      <td>55+</td>\n",
       "      <td>1</td>\n",
       "      <td>C</td>\n",
       "      <td>2</td>\n",
       "      <td>0</td>\n",
       "      <td>20</td>\n",
       "      <td>8</td>\n",
       "      <td>...</td>\n",
       "      <td>5.0</td>\n",
       "      <td>1.0</td>\n",
       "      <td>1.0</td>\n",
       "      <td>1.0</td>\n",
       "      <td>1.0</td>\n",
       "      <td>1.0</td>\n",
       "      <td>3.0</td>\n",
       "      <td>(0.0)</td>\n",
       "      <td>(0.0, 1.0)</td>\n",
       "      <td>(0.0, 0.0, 0.0, 1.0, 0.0, 0.0, 0.0, 0.0, 0.0, ...</td>\n",
       "    </tr>\n",
       "    <tr>\n",
       "      <th>550067</th>\n",
       "      <td>1006039</td>\n",
       "      <td>P00371644</td>\n",
       "      <td>F</td>\n",
       "      <td>46-50</td>\n",
       "      <td>0</td>\n",
       "      <td>B</td>\n",
       "      <td>4+</td>\n",
       "      <td>1</td>\n",
       "      <td>20</td>\n",
       "      <td>8</td>\n",
       "      <td>...</td>\n",
       "      <td>3.0</td>\n",
       "      <td>1.0</td>\n",
       "      <td>3.0</td>\n",
       "      <td>0.0</td>\n",
       "      <td>1.0</td>\n",
       "      <td>0.0</td>\n",
       "      <td>1.0</td>\n",
       "      <td>(0.0)</td>\n",
       "      <td>(1.0, 0.0)</td>\n",
       "      <td>(0.0, 1.0, 0.0, 0.0, 0.0, 0.0, 0.0, 0.0, 0.0, ...</td>\n",
       "    </tr>\n",
       "  </tbody>\n",
       "</table>\n",
       "<p>550068 rows × 22 columns</p>\n",
       "</div>"
      ],
      "text/plain": [
       "        User_ID Product_ID Gender    Age  Occupation City_Category  \\\n",
       "0       1000001  P00069042      F   0-17          10             A   \n",
       "1       1000001  P00248942      F   0-17          10             A   \n",
       "2       1000001  P00087842      F   0-17          10             A   \n",
       "3       1000001  P00085442      F   0-17          10             A   \n",
       "4       1000002  P00285442      M    55+          16             C   \n",
       "...         ...        ...    ...    ...         ...           ...   \n",
       "550063  1006033  P00372445      M  51-55          13             B   \n",
       "550064  1006035  P00375436      F  26-35           1             C   \n",
       "550065  1006036  P00375436      F  26-35          15             B   \n",
       "550066  1006038  P00375436      F    55+           1             C   \n",
       "550067  1006039  P00371644      F  46-50           0             B   \n",
       "\n",
       "       Stay_In_Current_City_Years  Marital_Status  Product_Category_1  \\\n",
       "0                               2               0                   3   \n",
       "1                               2               0                   1   \n",
       "2                               2               0                  12   \n",
       "3                               2               0                  12   \n",
       "4                              4+               0                   8   \n",
       "...                           ...             ...                 ...   \n",
       "550063                          1               1                  20   \n",
       "550064                          3               0                  20   \n",
       "550065                         4+               1                  20   \n",
       "550066                          2               0                  20   \n",
       "550067                         4+               1                  20   \n",
       "\n",
       "        Product_Category_2  ...  Age_labelEncoded  Gender_labelEncoded  \\\n",
       "0                        8  ...               6.0                  1.0   \n",
       "1                        6  ...               6.0                  1.0   \n",
       "2                        8  ...               6.0                  1.0   \n",
       "3                       14  ...               6.0                  1.0   \n",
       "4                        8  ...               5.0                  0.0   \n",
       "...                    ...  ...               ...                  ...   \n",
       "550063                   8  ...               4.0                  0.0   \n",
       "550064                   8  ...               0.0                  1.0   \n",
       "550065                   8  ...               0.0                  1.0   \n",
       "550066                   8  ...               5.0                  1.0   \n",
       "550067                   8  ...               3.0                  1.0   \n",
       "\n",
       "        Stay_In_Current_City_Years_labelEncoded  City_Category_labelEncoded  \\\n",
       "0                                           1.0                         2.0   \n",
       "1                                           1.0                         2.0   \n",
       "2                                           1.0                         2.0   \n",
       "3                                           1.0                         2.0   \n",
       "4                                           3.0                         1.0   \n",
       "...                                         ...                         ...   \n",
       "550063                                      0.0                         0.0   \n",
       "550064                                      2.0                         1.0   \n",
       "550065                                      3.0                         0.0   \n",
       "550066                                      1.0                         1.0   \n",
       "550067                                      3.0                         0.0   \n",
       "\n",
       "        Gender_index  City_Category_index  Occupation_index  \\\n",
       "0                1.0                  2.0              12.0   \n",
       "1                1.0                  2.0              12.0   \n",
       "2                1.0                  2.0              12.0   \n",
       "3                1.0                  2.0              12.0   \n",
       "4                0.0                  1.0               9.0   \n",
       "...              ...                  ...               ...   \n",
       "550063           0.0                  0.0              17.0   \n",
       "550064           1.0                  1.0               3.0   \n",
       "550065           1.0                  0.0              14.0   \n",
       "550066           1.0                  1.0               3.0   \n",
       "550067           1.0                  0.0               1.0   \n",
       "\n",
       "        Gender_OneHotEncoded  City_Category_OneHotEncoded  \\\n",
       "0                      (0.0)                   (0.0, 0.0)   \n",
       "1                      (0.0)                   (0.0, 0.0)   \n",
       "2                      (0.0)                   (0.0, 0.0)   \n",
       "3                      (0.0)                   (0.0, 0.0)   \n",
       "4                      (1.0)                   (0.0, 1.0)   \n",
       "...                      ...                          ...   \n",
       "550063                 (1.0)                   (1.0, 0.0)   \n",
       "550064                 (0.0)                   (0.0, 1.0)   \n",
       "550065                 (0.0)                   (1.0, 0.0)   \n",
       "550066                 (0.0)                   (0.0, 1.0)   \n",
       "550067                 (0.0)                   (1.0, 0.0)   \n",
       "\n",
       "                                 Occupation_OneHotEncoded  \n",
       "0       (0.0, 0.0, 0.0, 0.0, 0.0, 0.0, 0.0, 0.0, 0.0, ...  \n",
       "1       (0.0, 0.0, 0.0, 0.0, 0.0, 0.0, 0.0, 0.0, 0.0, ...  \n",
       "2       (0.0, 0.0, 0.0, 0.0, 0.0, 0.0, 0.0, 0.0, 0.0, ...  \n",
       "3       (0.0, 0.0, 0.0, 0.0, 0.0, 0.0, 0.0, 0.0, 0.0, ...  \n",
       "4       (0.0, 0.0, 0.0, 0.0, 0.0, 0.0, 0.0, 0.0, 0.0, ...  \n",
       "...                                                   ...  \n",
       "550063  (0.0, 0.0, 0.0, 0.0, 0.0, 0.0, 0.0, 0.0, 0.0, ...  \n",
       "550064  (0.0, 0.0, 0.0, 1.0, 0.0, 0.0, 0.0, 0.0, 0.0, ...  \n",
       "550065  (0.0, 0.0, 0.0, 0.0, 0.0, 0.0, 0.0, 0.0, 0.0, ...  \n",
       "550066  (0.0, 0.0, 0.0, 1.0, 0.0, 0.0, 0.0, 0.0, 0.0, ...  \n",
       "550067  (0.0, 1.0, 0.0, 0.0, 0.0, 0.0, 0.0, 0.0, 0.0, ...  \n",
       "\n",
       "[550068 rows x 22 columns]"
      ]
     },
     "execution_count": 60,
     "metadata": {},
     "output_type": "execute_result"
    }
   ],
   "source": [
    "train_data.toPandas()"
   ]
  },
  {
   "cell_type": "markdown",
   "id": "3a7e3eaa",
   "metadata": {},
   "source": [
    "## Question 8: Build a baseline model using any of the ML algorithms."
   ]
  },
  {
   "cell_type": "code",
   "execution_count": 61,
   "id": "ae9f4ba7",
   "metadata": {},
   "outputs": [],
   "source": [
    "from pyspark.ml.feature import VectorAssembler\n",
    "from pyspark.ml.evaluation import RegressionEvaluator\n",
    "from pyspark.ml.regression import LinearRegression"
   ]
  },
  {
   "cell_type": "markdown",
   "id": "be31e97f",
   "metadata": {},
   "source": [
    "Split the data into train and test sets"
   ]
  },
  {
   "cell_type": "code",
   "execution_count": 62,
   "id": "28aa2b21",
   "metadata": {},
   "outputs": [],
   "source": [
    "train, test = train_data.randomSplit([0.7, 0.3], seed=42)"
   ]
  },
  {
   "cell_type": "markdown",
   "id": "2557807f",
   "metadata": {},
   "source": [
    "Define the feature columns"
   ]
  },
  {
   "cell_type": "code",
   "execution_count": 63,
   "id": "bacef4dc",
   "metadata": {},
   "outputs": [],
   "source": [
    "feature_cols = [\n",
    "    \"Age_labelEncoded\",\n",
    "    \"Gender_labelEncoded\",\n",
    "    \"Marital_Status\",\n",
    "    \"Stay_In_Current_City_Years_labelEncoded\",\n",
    "    \"City_Category_labelEncoded\",\n",
    "    \"Occupation_OneHotEncoded\",\n",
    "    \"Gender_index\",\n",
    "    \"City_Category_index\",\n",
    "    \"Occupation_index\",\n",
    "    \"Product_Category_1\",\n",
    "    \"Product_Category_2\",\n",
    "    \"Product_Category_3\"\n",
    "]"
   ]
  },
  {
   "cell_type": "markdown",
   "id": "49197317",
   "metadata": {},
   "source": [
    "Create a vector assembler to combine the features into a single vector column"
   ]
  },
  {
   "cell_type": "code",
   "execution_count": 64,
   "id": "7ee97796",
   "metadata": {},
   "outputs": [],
   "source": [
    "assembler = VectorAssembler(inputCols=feature_cols, outputCol=\"features\")"
   ]
  },
  {
   "cell_type": "markdown",
   "id": "b2b7f516",
   "metadata": {},
   "source": [
    "Transform the train and test data using the vector assembler"
   ]
  },
  {
   "cell_type": "code",
   "execution_count": 65,
   "id": "dc6d3abf",
   "metadata": {},
   "outputs": [],
   "source": [
    "train = assembler.transform(train)\n",
    "test = assembler.transform(test)"
   ]
  },
  {
   "cell_type": "markdown",
   "id": "593aa706",
   "metadata": {},
   "source": [
    "Create a Linear Regression model"
   ]
  },
  {
   "cell_type": "code",
   "execution_count": 66,
   "id": "c4121823",
   "metadata": {},
   "outputs": [],
   "source": [
    "lr = LinearRegression(labelCol=\"Purchase\", featuresCol=\"features\")"
   ]
  },
  {
   "cell_type": "markdown",
   "id": "35b60fba",
   "metadata": {},
   "source": [
    "Fit the model on the training data"
   ]
  },
  {
   "cell_type": "code",
   "execution_count": 67,
   "id": "a698b3bc",
   "metadata": {},
   "outputs": [],
   "source": [
    "baseline_model = lr.fit(train)"
   ]
  },
  {
   "cell_type": "markdown",
   "id": "5caf1c61",
   "metadata": {},
   "source": [
    "Make predictions on the test data"
   ]
  },
  {
   "cell_type": "code",
   "execution_count": 68,
   "id": "a3a0adf0",
   "metadata": {},
   "outputs": [],
   "source": [
    "predictions = baseline_model.transform(test)"
   ]
  },
  {
   "cell_type": "markdown",
   "id": "41bf5dde",
   "metadata": {},
   "source": [
    "Evaluate the model using R2 and RMSE"
   ]
  },
  {
   "cell_type": "code",
   "execution_count": 69,
   "id": "6c70cea8",
   "metadata": {},
   "outputs": [],
   "source": [
    "evaluator_r2 = RegressionEvaluator(labelCol=\"Purchase\", metricName=\"r2\")\n",
    "r2 = evaluator_r2.evaluate(predictions)\n",
    "\n",
    "evaluator_rmse = RegressionEvaluator(labelCol=\"Purchase\", metricName=\"rmse\")\n",
    "rmse = evaluator_rmse.evaluate(predictions)"
   ]
  },
  {
   "cell_type": "markdown",
   "id": "201a53ac",
   "metadata": {},
   "source": [
    "Print the R2 and RMSE"
   ]
  },
  {
   "cell_type": "code",
   "execution_count": 70,
   "id": "55fdba13",
   "metadata": {},
   "outputs": [
    {
     "name": "stdout",
     "output_type": "stream",
     "text": [
      "R Squared (R2): 0.12848219958436558\n",
      "Root Mean Squared Error (RMSE): 4699.353548842734\n"
     ]
    }
   ],
   "source": [
    "print(\"R Squared (R2):\", r2)\n",
    "print(\"Root Mean Squared Error (RMSE):\", rmse)"
   ]
  },
  {
   "cell_type": "markdown",
   "id": "5236cf28",
   "metadata": {},
   "source": [
    "## Question 9: Use grid search cv for model improvement."
   ]
  },
  {
   "cell_type": "code",
   "execution_count": 71,
   "id": "b0c859fd",
   "metadata": {},
   "outputs": [],
   "source": [
    "from pyspark.ml.tuning import ParamGridBuilder, CrossValidator"
   ]
  },
  {
   "cell_type": "markdown",
   "id": "f290af34",
   "metadata": {},
   "source": [
    "Create a Linear Regression model"
   ]
  },
  {
   "cell_type": "code",
   "execution_count": 72,
   "id": "8e33a7a0",
   "metadata": {},
   "outputs": [],
   "source": [
    "lr = LinearRegression(labelCol=\"Purchase\", featuresCol=\"features\")"
   ]
  },
  {
   "cell_type": "markdown",
   "id": "6bce7b70",
   "metadata": {},
   "source": [
    "Define the parameter grid for grid search"
   ]
  },
  {
   "cell_type": "code",
   "execution_count": 73,
   "id": "0d476819",
   "metadata": {},
   "outputs": [],
   "source": [
    "paramGrid = ParamGridBuilder() \\\n",
    "    .addGrid(lr.regParam, [0.01, 0.1, 1.0]) \\\n",
    "    .addGrid(lr.elasticNetParam, [0.0, 0.5, 1.0]) \\\n",
    "    .build()"
   ]
  },
  {
   "cell_type": "markdown",
   "id": "b5811e7c",
   "metadata": {},
   "source": [
    "Create a CrossValidator with the Linear Regression model and parameter grid"
   ]
  },
  {
   "cell_type": "code",
   "execution_count": 74,
   "id": "2f01cded",
   "metadata": {},
   "outputs": [],
   "source": [
    "crossval = CrossValidator(estimator=lr,\n",
    "                          estimatorParamMaps=paramGrid,\n",
    "                          evaluator=RegressionEvaluator(labelCol=\"Purchase\", metricName=\"r2\"),\n",
    "                          numFolds=3)"
   ]
  },
  {
   "cell_type": "markdown",
   "id": "008baba3",
   "metadata": {},
   "source": [
    "Run cross-validation and choose the best model"
   ]
  },
  {
   "cell_type": "code",
   "execution_count": 75,
   "id": "453ae7e9",
   "metadata": {},
   "outputs": [],
   "source": [
    "cv_model = crossval.fit(train)"
   ]
  },
  {
   "cell_type": "markdown",
   "id": "5986fba5",
   "metadata": {},
   "source": [
    "Get the best model from cross-validation"
   ]
  },
  {
   "cell_type": "code",
   "execution_count": 76,
   "id": "65a40984",
   "metadata": {},
   "outputs": [],
   "source": [
    "best_model = cv_model.bestModel"
   ]
  },
  {
   "cell_type": "markdown",
   "id": "80d6f39e",
   "metadata": {},
   "source": [
    "Print the best hyperparameters"
   ]
  },
  {
   "cell_type": "code",
   "execution_count": 77,
   "id": "aa85e411",
   "metadata": {},
   "outputs": [
    {
     "name": "stdout",
     "output_type": "stream",
     "text": [
      "Best Hyperparameters:\n",
      "regParam = 1.0\n",
      "elasticNetParam = 1.0\n"
     ]
    }
   ],
   "source": [
    "print(\"Best Hyperparameters:\")\n",
    "print(\"regParam =\", best_model._java_obj.getRegParam())\n",
    "print(\"elasticNetParam =\", best_model._java_obj.getElasticNetParam())"
   ]
  },
  {
   "cell_type": "markdown",
   "id": "b52ea040",
   "metadata": {},
   "source": [
    "Make predictions on the test data using the best model"
   ]
  },
  {
   "cell_type": "code",
   "execution_count": 78,
   "id": "928e3325",
   "metadata": {},
   "outputs": [],
   "source": [
    "predictions = best_model.transform(test)"
   ]
  },
  {
   "cell_type": "markdown",
   "id": "2f93084f",
   "metadata": {},
   "source": [
    "Evaluate the model using R2 score and RMSE"
   ]
  },
  {
   "cell_type": "code",
   "execution_count": 79,
   "id": "310c8005",
   "metadata": {},
   "outputs": [],
   "source": [
    "evaluator_r2 = RegressionEvaluator(labelCol=\"Purchase\", metricName=\"r2\")\n",
    "r2 = evaluator_r2.evaluate(predictions)\n",
    "\n",
    "evaluator_rmse = RegressionEvaluator(labelCol=\"Purchase\", metricName=\"rmse\")\n",
    "rmse = evaluator_rmse.evaluate(predictions)"
   ]
  },
  {
   "cell_type": "markdown",
   "id": "310288b5",
   "metadata": {},
   "source": [
    "Print the R2 score and RMSE"
   ]
  },
  {
   "cell_type": "code",
   "execution_count": 80,
   "id": "91e96d9c",
   "metadata": {},
   "outputs": [
    {
     "name": "stdout",
     "output_type": "stream",
     "text": [
      "R2 Score: 0.1284883009804303\n",
      "Root Mean Squared Error (RMSE): 4699.337098996604\n"
     ]
    }
   ],
   "source": [
    "print(\"R2 Score:\", r2)\n",
    "print(\"Root Mean Squared Error (RMSE):\", rmse)"
   ]
  },
  {
   "cell_type": "markdown",
   "id": "10970614",
   "metadata": {},
   "source": [
    "## Question 10: Create a Spark ML Pipeline for the final model."
   ]
  },
  {
   "cell_type": "code",
   "execution_count": 81,
   "id": "a5776203",
   "metadata": {},
   "outputs": [],
   "source": [
    "from pyspark.ml import Pipeline"
   ]
  },
  {
   "cell_type": "markdown",
   "id": "85901c27",
   "metadata": {},
   "source": [
    "Define the feature columns that will be used in the model"
   ]
  },
  {
   "cell_type": "code",
   "execution_count": 82,
   "id": "d6dab2b2",
   "metadata": {},
   "outputs": [],
   "source": [
    "feature_cols = [\n",
    "    \"Age_labelEncoded\",\n",
    "    \"Gender_labelEncoded\",\n",
    "    \"Marital_Status\",\n",
    "    \"Stay_In_Current_City_Years_labelEncoded\",\n",
    "    \"City_Category_labelEncoded\",\n",
    "    \"Occupation_OneHotEncoded\",\n",
    "    \"Gender_index\",\n",
    "    \"City_Category_index\",\n",
    "    \"Occupation_index\",\n",
    "    \"Product_Category_1\",\n",
    "    \"Product_Category_2\",\n",
    "    \"Product_Category_3\"\n",
    "]"
   ]
  },
  {
   "cell_type": "markdown",
   "id": "fc092aae",
   "metadata": {},
   "source": [
    "Create a VectorAssembler to combine the features into a single vector column"
   ]
  },
  {
   "cell_type": "code",
   "execution_count": 83,
   "id": "49e5d58c",
   "metadata": {},
   "outputs": [],
   "source": [
    "assembler = VectorAssembler(inputCols=feature_cols, outputCol=\"features\")"
   ]
  },
  {
   "cell_type": "markdown",
   "id": "29fba61f",
   "metadata": {},
   "source": [
    "Create a LinearRegression model with the desired hyperparameters"
   ]
  },
  {
   "cell_type": "code",
   "execution_count": 90,
   "id": "2b2dc2dc",
   "metadata": {},
   "outputs": [],
   "source": [
    "lr = LinearRegression(labelCol=\"Purchase\", featuresCol=\"features\", regParam=1.0, elasticNetParam=1.0)"
   ]
  },
  {
   "cell_type": "markdown",
   "id": "65eb337c",
   "metadata": {},
   "source": [
    "Create the pipeline by specifying the stages, which include the VectorAssembler and the LinearRegression model"
   ]
  },
  {
   "cell_type": "code",
   "execution_count": 91,
   "id": "ba67ac58",
   "metadata": {},
   "outputs": [],
   "source": [
    "pipeline = Pipeline(stages=[assembler, lr])"
   ]
  },
  {
   "cell_type": "markdown",
   "id": "a23d712d",
   "metadata": {},
   "source": [
    "Fit the pipeline on the training data"
   ]
  },
  {
   "cell_type": "code",
   "execution_count": 92,
   "id": "f42d81dd",
   "metadata": {},
   "outputs": [],
   "source": [
    "pipeline_model = pipeline.fit(train_data)"
   ]
  },
  {
   "cell_type": "markdown",
   "id": "18551f84",
   "metadata": {},
   "source": [
    "Make predictions on the test data"
   ]
  },
  {
   "cell_type": "code",
   "execution_count": 93,
   "id": "69684c2c",
   "metadata": {},
   "outputs": [],
   "source": [
    "predictions = pipeline_model.transform(test_data)"
   ]
  },
  {
   "cell_type": "markdown",
   "id": "7b45e8e4",
   "metadata": {},
   "source": [
    "Select the columns of interest from the predictions"
   ]
  },
  {
   "cell_type": "code",
   "execution_count": 94,
   "id": "af23b34a",
   "metadata": {},
   "outputs": [],
   "source": [
    "predicted_values = predictions.select(\"Product_ID\", \"prediction\")"
   ]
  },
  {
   "cell_type": "markdown",
   "id": "78d7836b",
   "metadata": {},
   "source": [
    "Show the predicted values"
   ]
  },
  {
   "cell_type": "code",
   "execution_count": 95,
   "id": "1dc721f7",
   "metadata": {},
   "outputs": [
    {
     "name": "stdout",
     "output_type": "stream",
     "text": [
      "+----------+------------------+\n",
      "|Product_ID|        prediction|\n",
      "+----------+------------------+\n",
      "| P00128942|11261.354003793087|\n",
      "| P00113442|10412.006335802065|\n",
      "| P00288442|  8766.63244437881|\n",
      "| P00145342| 9176.251714236765|\n",
      "| P00053842| 9733.169576693785|\n",
      "+----------+------------------+\n",
      "only showing top 5 rows\n",
      "\n"
     ]
    }
   ],
   "source": [
    "predicted_values.show(5)"
   ]
  }
 ],
 "metadata": {
  "kernelspec": {
   "display_name": "Python 3 (ipykernel)",
   "language": "python",
   "name": "python3"
  },
  "language_info": {
   "codemirror_mode": {
    "name": "ipython",
    "version": 3
   },
   "file_extension": ".py",
   "mimetype": "text/x-python",
   "name": "python",
   "nbconvert_exporter": "python",
   "pygments_lexer": "ipython3",
   "version": "3.9.12"
  }
 },
 "nbformat": 4,
 "nbformat_minor": 5
}
